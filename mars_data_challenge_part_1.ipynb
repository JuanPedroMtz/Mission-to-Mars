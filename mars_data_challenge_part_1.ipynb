{
 "cells": [
  {
   "cell_type": "code",
   "execution_count": 52,
   "id": "2a68d1f5",
   "metadata": {},
   "outputs": [],
   "source": [
    "# Import Splinter and BeautifulSoup\n",
    "from splinter import Browser\n",
    "from bs4 import BeautifulSoup as soup\n",
    "from webdriver_manager.chrome import ChromeDriverManager\n",
    "import pandas as pd"
   ]
  },
  {
   "cell_type": "code",
   "execution_count": 2,
   "id": "285884e0",
   "metadata": {},
   "outputs": [],
   "source": [
    "executable_path = {'executable_path': ChromeDriverManager().install()}\n",
    "browser = Browser('chrome', **executable_path, headless = False)"
   ]
  },
  {
   "cell_type": "code",
   "execution_count": 3,
   "id": "4122a707",
   "metadata": {},
   "outputs": [
    {
     "data": {
      "text/plain": [
       "True"
      ]
     },
     "execution_count": 3,
     "metadata": {},
     "output_type": "execute_result"
    }
   ],
   "source": [
    "# Visit the Mars NASA news site\n",
    "url = 'https://redplanetscience.com'\n",
    "browser.visit(url)\n",
    "# Optional delay for loading the page\n",
    "browser.is_element_present_by_css('div.list_text', wait_time=1)"
   ]
  },
  {
   "cell_type": "code",
   "execution_count": 30,
   "id": "c53d1c28",
   "metadata": {},
   "outputs": [],
   "source": [
    "html = browser.html\n",
    "news_soup = soup(html, \"html.parser\")"
   ]
  },
  {
   "cell_type": "code",
   "execution_count": 48,
   "id": "1b9a253b",
   "metadata": {},
   "outputs": [
    {
     "data": {
      "text/plain": [
       "[<div class=\"content_title\">NASA's Perseverance Rover Bringing 3D-Printed Metal Parts to Mars</div>,\n",
       " <div class=\"content_title\">NASA Establishes Board to Initially Review Mars Sample Return Plans</div>,\n",
       " <div class=\"content_title\">NASA Invites Public to Share Excitement of Mars 2020 Perseverance Rover Launch</div>,\n",
       " <div class=\"content_title\">While Stargazing on Mars, NASA's Curiosity Rover Spots Earth and Venus</div>,\n",
       " <div class=\"content_title\">10.9 Million Names Now Aboard NASA's Perseverance Mars Rover</div>,\n",
       " <div class=\"content_title\">The Extraordinary Sample-Gathering System of NASA's Perseverance Mars Rover</div>,\n",
       " <div class=\"content_title\">Screening Soon: 'The Pathfinders' Trains Lens on Mars</div>,\n",
       " <div class=\"content_title\">NASA's Perseverance Rover Is Midway to Mars </div>,\n",
       " <div class=\"content_title\">MAVEN Maps Electric Currents around Mars that are Fundamental to Atmospheric Loss</div>,\n",
       " <div class=\"content_title\">A Year of Surprising Science From NASA's InSight Mars Mission</div>,\n",
       " <div class=\"content_title\">The Man Who Wanted to Fly on Mars</div>,\n",
       " <div class=\"content_title\">Curiosity Mars Rover's Summer Road Trip Has Begun</div>,\n",
       " <div class=\"content_title\">Three New Views of Mars' Moon Phobos</div>,\n",
       " <div class=\"content_title\">AI Is Helping Scientists Discover Fresh Craters on Mars</div>,\n",
       " <div class=\"content_title\">NASA's Perseverance Rover Attached to Atlas V Rocket</div>]"
      ]
     },
     "execution_count": 48,
     "metadata": {},
     "output_type": "execute_result"
    }
   ],
   "source": [
    "# Getting the title \n",
    "titles = news_soup.find_all('div', class_='content_title')\n",
    "titles"
   ]
  },
  {
   "cell_type": "code",
   "execution_count": 49,
   "id": "2a28a92c",
   "metadata": {},
   "outputs": [
    {
     "data": {
      "text/plain": [
       "[<div class=\"article_teaser_body\">For hobbyists and makers, 3D printing expands creative possibilities; for specialized engineers, it's also key to next-generation spacecraft design.</div>,\n",
       " <div class=\"article_teaser_body\">The board will assist with analysis of current plans and goals for one of the most difficult missions humanity has ever undertaken.</div>,\n",
       " <div class=\"article_teaser_body\">There are lots of ways to participate in the historic event, which is targeted for July 30.</div>,\n",
       " <div class=\"article_teaser_body\">This new portrait of the Red Planet's neighbors was taken during a time when there's more dust in the air on Mars.</div>,\n",
       " <div class=\"article_teaser_body\">As part of NASA's 'Send Your Name to Mars' campaign, they've been stenciled onto three microchips along with essays from NASA's 'Name the Rover' contest. Next stop: Mars.</div>,\n",
       " <div class=\"article_teaser_body\">Two astronauts collected Moon rocks on Apollo 11. It will take three robotic systems working together to gather up the first Mars rock samples for return to Earth.</div>,\n",
       " <div class=\"article_teaser_body\">With the Mars 2020 mission ramping up, the documentary — the first of four about past JPL missions to the Red Planet to be shown at Caltech — tells a gripping backstory.</div>,\n",
       " <div class=\"article_teaser_body\">Sometimes half measures can be a good thing – especially on a journey this long. The agency's latest rover only has about 146 million miles left to reach its destination.</div>,\n",
       " <div class=\"article_teaser_body\">Five years after NASA’s MAVEN spacecraft entered into orbit around Mars, data from the mission has led to the creation of a map of electric current systems in the Martian atmosphere.</div>,\n",
       " <div class=\"article_teaser_body\">A batch of new papers summarizes the lander's findings above and below the surface of the Red Planet.</div>,\n",
       " <div class=\"article_teaser_body\">The Mars Helicopter is riding to the Red Planet this summer with NASA's Perseverance rover. The helicopter's chief engineer, Bob Balaram, shares the saga of how it came into being.</div>,\n",
       " <div class=\"article_teaser_body\">After more than a year in the \"clay-bearing unit,\" Curiosity is making a mile-long journey around some deep sand so that it can explore higher up Mount Sharp.</div>,\n",
       " <div class=\"article_teaser_body\">Taken with the infrared camera aboard NASA's Odyssey orbiter, they reveal temperature variations on the small moon as it drifts into and out of Mars’ shadow.</div>,\n",
       " <div class=\"article_teaser_body\">It's the first time machine learning has been used to find previously unknown craters on the Red Planet.</div>,\n",
       " <div class=\"article_teaser_body\">Ready for its launch later in the month, the Mars-bound rover will touch terra firma no more.</div>]"
      ]
     },
     "execution_count": 49,
     "metadata": {},
     "output_type": "execute_result"
    }
   ],
   "source": [
    "summaries = news_soup.find_all('div', class_='article_teaser_body')\n",
    "summaries"
   ]
  },
  {
   "cell_type": "code",
   "execution_count": 50,
   "id": "8231412a",
   "metadata": {},
   "outputs": [
    {
     "data": {
      "text/plain": [
       "[{'Title': \"NASA's Perseverance Rover Bringing 3D-Printed Metal Parts to Mars\",\n",
       "  'Summary': \"For hobbyists and makers, 3D printing expands creative possibilities; for specialized engineers, it's also key to next-generation spacecraft design.\"},\n",
       " {'Title': 'NASA Establishes Board to Initially Review Mars Sample Return Plans',\n",
       "  'Summary': 'The board will assist with analysis of current plans and goals for one of the most difficult missions humanity has ever undertaken.'},\n",
       " {'Title': 'NASA Invites Public to Share Excitement of Mars 2020 Perseverance Rover Launch',\n",
       "  'Summary': 'There are lots of ways to participate in the historic event, which is targeted for July 30.'},\n",
       " {'Title': \"While Stargazing on Mars, NASA's Curiosity Rover Spots Earth and Venus\",\n",
       "  'Summary': \"This new portrait of the Red Planet's neighbors was taken during a time when there's more dust in the air on Mars.\"},\n",
       " {'Title': \"10.9 Million Names Now Aboard NASA's Perseverance Mars Rover\",\n",
       "  'Summary': \"As part of NASA's 'Send Your Name to Mars' campaign, they've been stenciled onto three microchips along with essays from NASA's 'Name the Rover' contest. Next stop: Mars.\"},\n",
       " {'Title': \"The Extraordinary Sample-Gathering System of NASA's Perseverance Mars Rover\",\n",
       "  'Summary': 'Two astronauts collected Moon rocks on Apollo 11. It will take three robotic systems working together to gather up the first Mars rock samples for return to Earth.'},\n",
       " {'Title': \"Screening Soon: 'The Pathfinders' Trains Lens on Mars\",\n",
       "  'Summary': 'With the Mars 2020 mission ramping up, the documentary — the first of four about past JPL missions to the Red Planet to be shown at Caltech — tells a gripping backstory.'},\n",
       " {'Title': \"NASA's Perseverance Rover Is Midway to Mars \",\n",
       "  'Summary': \"Sometimes half measures can be a good thing – especially on a journey this long. The agency's latest rover only has about 146 million miles left to reach its destination.\"},\n",
       " {'Title': 'MAVEN Maps Electric Currents around Mars that are Fundamental to Atmospheric Loss',\n",
       "  'Summary': 'Five years after NASA’s MAVEN spacecraft entered into orbit around Mars, data from the mission has led to the creation of a map of electric current systems in the Martian atmosphere.'},\n",
       " {'Title': \"A Year of Surprising Science From NASA's InSight Mars Mission\",\n",
       "  'Summary': \"A batch of new papers summarizes the lander's findings above and below the surface of the Red Planet.\"},\n",
       " {'Title': 'The Man Who Wanted to Fly on Mars',\n",
       "  'Summary': \"The Mars Helicopter is riding to the Red Planet this summer with NASA's Perseverance rover. The helicopter's chief engineer, Bob Balaram, shares the saga of how it came into being.\"},\n",
       " {'Title': \"Curiosity Mars Rover's Summer Road Trip Has Begun\",\n",
       "  'Summary': 'After more than a year in the \"clay-bearing unit,\" Curiosity is making a mile-long journey around some deep sand so that it can explore higher up Mount Sharp.'},\n",
       " {'Title': \"Three New Views of Mars' Moon Phobos\",\n",
       "  'Summary': \"Taken with the infrared camera aboard NASA's Odyssey orbiter, they reveal temperature variations on the small moon as it drifts into and out of Mars’ shadow.\"},\n",
       " {'Title': 'AI Is Helping Scientists Discover Fresh Craters on Mars',\n",
       "  'Summary': \"It's the first time machine learning has been used to find previously unknown craters on the Red Planet.\"},\n",
       " {'Title': \"NASA's Perseverance Rover Attached to Atlas V Rocket\",\n",
       "  'Summary': 'Ready for its launch later in the month, the Mars-bound rover will touch terra firma no more.'}]"
      ]
     },
     "execution_count": 50,
     "metadata": {},
     "output_type": "execute_result"
    }
   ],
   "source": [
    "info = []\n",
    "for title, summary in zip(titles, summaries):\n",
    "    info.append({\n",
    "        \"Title\": title.text,\n",
    "        \"Summary\": summary.text\n",
    "        })\n",
    "info\n",
    "    "
   ]
  },
  {
   "cell_type": "code",
   "execution_count": 53,
   "id": "971b7948",
   "metadata": {},
   "outputs": [
    {
     "data": {
      "text/html": [
       "<div>\n",
       "<style scoped>\n",
       "    .dataframe tbody tr th:only-of-type {\n",
       "        vertical-align: middle;\n",
       "    }\n",
       "\n",
       "    .dataframe tbody tr th {\n",
       "        vertical-align: top;\n",
       "    }\n",
       "\n",
       "    .dataframe thead th {\n",
       "        text-align: right;\n",
       "    }\n",
       "</style>\n",
       "<table border=\"1\" class=\"dataframe\">\n",
       "  <thead>\n",
       "    <tr style=\"text-align: right;\">\n",
       "      <th></th>\n",
       "      <th>Title</th>\n",
       "      <th>Summary</th>\n",
       "    </tr>\n",
       "  </thead>\n",
       "  <tbody>\n",
       "    <tr>\n",
       "      <th>0</th>\n",
       "      <td>NASA's Perseverance Rover Bringing 3D-Printed ...</td>\n",
       "      <td>For hobbyists and makers, 3D printing expands ...</td>\n",
       "    </tr>\n",
       "    <tr>\n",
       "      <th>1</th>\n",
       "      <td>NASA Establishes Board to Initially Review Mar...</td>\n",
       "      <td>The board will assist with analysis of current...</td>\n",
       "    </tr>\n",
       "    <tr>\n",
       "      <th>2</th>\n",
       "      <td>NASA Invites Public to Share Excitement of Mar...</td>\n",
       "      <td>There are lots of ways to participate in the h...</td>\n",
       "    </tr>\n",
       "    <tr>\n",
       "      <th>3</th>\n",
       "      <td>While Stargazing on Mars, NASA's Curiosity Rov...</td>\n",
       "      <td>This new portrait of the Red Planet's neighbor...</td>\n",
       "    </tr>\n",
       "    <tr>\n",
       "      <th>4</th>\n",
       "      <td>10.9 Million Names Now Aboard NASA's Persevera...</td>\n",
       "      <td>As part of NASA's 'Send Your Name to Mars' cam...</td>\n",
       "    </tr>\n",
       "    <tr>\n",
       "      <th>5</th>\n",
       "      <td>The Extraordinary Sample-Gathering System of N...</td>\n",
       "      <td>Two astronauts collected Moon rocks on Apollo ...</td>\n",
       "    </tr>\n",
       "    <tr>\n",
       "      <th>6</th>\n",
       "      <td>Screening Soon: 'The Pathfinders' Trains Lens ...</td>\n",
       "      <td>With the Mars 2020 mission ramping up, the doc...</td>\n",
       "    </tr>\n",
       "    <tr>\n",
       "      <th>7</th>\n",
       "      <td>NASA's Perseverance Rover Is Midway to Mars</td>\n",
       "      <td>Sometimes half measures can be a good thing – ...</td>\n",
       "    </tr>\n",
       "    <tr>\n",
       "      <th>8</th>\n",
       "      <td>MAVEN Maps Electric Currents around Mars that ...</td>\n",
       "      <td>Five years after NASA’s MAVEN spacecraft enter...</td>\n",
       "    </tr>\n",
       "    <tr>\n",
       "      <th>9</th>\n",
       "      <td>A Year of Surprising Science From NASA's InSig...</td>\n",
       "      <td>A batch of new papers summarizes the lander's ...</td>\n",
       "    </tr>\n",
       "    <tr>\n",
       "      <th>10</th>\n",
       "      <td>The Man Who Wanted to Fly on Mars</td>\n",
       "      <td>The Mars Helicopter is riding to the Red Plane...</td>\n",
       "    </tr>\n",
       "    <tr>\n",
       "      <th>11</th>\n",
       "      <td>Curiosity Mars Rover's Summer Road Trip Has Begun</td>\n",
       "      <td>After more than a year in the \"clay-bearing un...</td>\n",
       "    </tr>\n",
       "    <tr>\n",
       "      <th>12</th>\n",
       "      <td>Three New Views of Mars' Moon Phobos</td>\n",
       "      <td>Taken with the infrared camera aboard NASA's O...</td>\n",
       "    </tr>\n",
       "    <tr>\n",
       "      <th>13</th>\n",
       "      <td>AI Is Helping Scientists Discover Fresh Crater...</td>\n",
       "      <td>It's the first time machine learning has been ...</td>\n",
       "    </tr>\n",
       "    <tr>\n",
       "      <th>14</th>\n",
       "      <td>NASA's Perseverance Rover Attached to Atlas V ...</td>\n",
       "      <td>Ready for its launch later in the month, the M...</td>\n",
       "    </tr>\n",
       "  </tbody>\n",
       "</table>\n",
       "</div>"
      ],
      "text/plain": [
       "                                                Title  \\\n",
       "0   NASA's Perseverance Rover Bringing 3D-Printed ...   \n",
       "1   NASA Establishes Board to Initially Review Mar...   \n",
       "2   NASA Invites Public to Share Excitement of Mar...   \n",
       "3   While Stargazing on Mars, NASA's Curiosity Rov...   \n",
       "4   10.9 Million Names Now Aboard NASA's Persevera...   \n",
       "5   The Extraordinary Sample-Gathering System of N...   \n",
       "6   Screening Soon: 'The Pathfinders' Trains Lens ...   \n",
       "7        NASA's Perseverance Rover Is Midway to Mars    \n",
       "8   MAVEN Maps Electric Currents around Mars that ...   \n",
       "9   A Year of Surprising Science From NASA's InSig...   \n",
       "10                  The Man Who Wanted to Fly on Mars   \n",
       "11  Curiosity Mars Rover's Summer Road Trip Has Begun   \n",
       "12               Three New Views of Mars' Moon Phobos   \n",
       "13  AI Is Helping Scientists Discover Fresh Crater...   \n",
       "14  NASA's Perseverance Rover Attached to Atlas V ...   \n",
       "\n",
       "                                              Summary  \n",
       "0   For hobbyists and makers, 3D printing expands ...  \n",
       "1   The board will assist with analysis of current...  \n",
       "2   There are lots of ways to participate in the h...  \n",
       "3   This new portrait of the Red Planet's neighbor...  \n",
       "4   As part of NASA's 'Send Your Name to Mars' cam...  \n",
       "5   Two astronauts collected Moon rocks on Apollo ...  \n",
       "6   With the Mars 2020 mission ramping up, the doc...  \n",
       "7   Sometimes half measures can be a good thing – ...  \n",
       "8   Five years after NASA’s MAVEN spacecraft enter...  \n",
       "9   A batch of new papers summarizes the lander's ...  \n",
       "10  The Mars Helicopter is riding to the Red Plane...  \n",
       "11  After more than a year in the \"clay-bearing un...  \n",
       "12  Taken with the infrared camera aboard NASA's O...  \n",
       "13  It's the first time machine learning has been ...  \n",
       "14  Ready for its launch later in the month, the M...  "
      ]
     },
     "execution_count": 53,
     "metadata": {},
     "output_type": "execute_result"
    }
   ],
   "source": [
    "df = pd.DataFrame(info)\n",
    "df"
   ]
  },
  {
   "cell_type": "code",
   "execution_count": null,
   "id": "ddf32bf6",
   "metadata": {},
   "outputs": [],
   "source": []
  }
 ],
 "metadata": {
  "kernelspec": {
   "display_name": "PythonData",
   "language": "python",
   "name": "pythondata"
  },
  "language_info": {
   "codemirror_mode": {
    "name": "ipython",
    "version": 3
   },
   "file_extension": ".py",
   "mimetype": "text/x-python",
   "name": "python",
   "nbconvert_exporter": "python",
   "pygments_lexer": "ipython3",
   "version": "3.7.13"
  }
 },
 "nbformat": 4,
 "nbformat_minor": 5
}
